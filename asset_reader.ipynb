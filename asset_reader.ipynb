{
 "cells": [
  {
   "cell_type": "code",
   "execution_count": 46,
   "metadata": {},
   "outputs": [],
   "source": [
    "%matplotlib inline\n",
    "import pandas as pd\n",
    "import numpy as np\n",
    "import matplotlib.pyplot as plt"
   ]
  },
  {
   "cell_type": "code",
   "execution_count": 47,
   "metadata": {},
   "outputs": [],
   "source": [
    "crypto_file = \"coinbase_data.csv\""
   ]
  },
  {
   "cell_type": "code",
   "execution_count": 48,
   "metadata": {},
   "outputs": [],
   "source": [
    "crypto_file_df = pd.read_csv(crypto_file, encoding=\"ISO-8859-1\")"
   ]
  },
  {
   "cell_type": "code",
   "execution_count": 49,
   "metadata": {},
   "outputs": [
    {
     "data": {
      "text/html": [
       "<div>\n",
       "<style scoped>\n",
       "    .dataframe tbody tr th:only-of-type {\n",
       "        vertical-align: middle;\n",
       "    }\n",
       "\n",
       "    .dataframe tbody tr th {\n",
       "        vertical-align: top;\n",
       "    }\n",
       "\n",
       "    .dataframe thead th {\n",
       "        text-align: right;\n",
       "    }\n",
       "</style>\n",
       "<table border=\"1\" class=\"dataframe\">\n",
       "  <thead>\n",
       "    <tr style=\"text-align: right;\">\n",
       "      <th></th>\n",
       "      <th>Timestamp</th>\n",
       "      <th>Transaction Type</th>\n",
       "      <th>Asset</th>\n",
       "      <th>Quantity Transacted</th>\n",
       "      <th>USD Spot Price at Transaction</th>\n",
       "      <th>USD Subtotal</th>\n",
       "      <th>USD Total (inclusive of fees)</th>\n",
       "      <th>USD Fees</th>\n",
       "      <th>Notes</th>\n",
       "    </tr>\n",
       "  </thead>\n",
       "  <tbody>\n",
       "    <tr>\n",
       "      <th>0</th>\n",
       "      <td>2017-12-08T18:12:58Z</td>\n",
       "      <td>Buy</td>\n",
       "      <td>BTC</td>\n",
       "      <td>0.001507</td>\n",
       "      <td>15536.55</td>\n",
       "      <td>23.41</td>\n",
       "      <td>25.0</td>\n",
       "      <td>1.59</td>\n",
       "      <td>Bought 0.00150677 BTC for $25.00 USD</td>\n",
       "    </tr>\n",
       "    <tr>\n",
       "      <th>1</th>\n",
       "      <td>2017-12-17T18:43:07Z</td>\n",
       "      <td>Buy</td>\n",
       "      <td>BTC</td>\n",
       "      <td>0.000447</td>\n",
       "      <td>19643.38</td>\n",
       "      <td>8.78</td>\n",
       "      <td>10.0</td>\n",
       "      <td>1.22</td>\n",
       "      <td>Bought 0.00044697 BTC for $10.00 USD</td>\n",
       "    </tr>\n",
       "    <tr>\n",
       "      <th>2</th>\n",
       "      <td>2019-06-24T19:38:15Z</td>\n",
       "      <td>Buy</td>\n",
       "      <td>BTC</td>\n",
       "      <td>0.000824</td>\n",
       "      <td>10929.29</td>\n",
       "      <td>9.01</td>\n",
       "      <td>10.0</td>\n",
       "      <td>0.99</td>\n",
       "      <td>Bought 0.00082439 BTC for $10.00 USD</td>\n",
       "    </tr>\n",
       "    <tr>\n",
       "      <th>3</th>\n",
       "      <td>2019-07-03T22:05:59Z</td>\n",
       "      <td>Buy</td>\n",
       "      <td>BTC</td>\n",
       "      <td>0.001179</td>\n",
       "      <td>11456.14</td>\n",
       "      <td>13.51</td>\n",
       "      <td>15.0</td>\n",
       "      <td>1.49</td>\n",
       "      <td>Bought 0.00117928 BTC for $15.00 USD</td>\n",
       "    </tr>\n",
       "    <tr>\n",
       "      <th>4</th>\n",
       "      <td>2019-09-02T23:14:51Z</td>\n",
       "      <td>Buy</td>\n",
       "      <td>BTC</td>\n",
       "      <td>0.000862</td>\n",
       "      <td>10451.22</td>\n",
       "      <td>9.01</td>\n",
       "      <td>10.0</td>\n",
       "      <td>0.99</td>\n",
       "      <td>Bought 0.0008621 BTC for $10.00 USD</td>\n",
       "    </tr>\n",
       "  </tbody>\n",
       "</table>\n",
       "</div>"
      ],
      "text/plain": [
       "              Timestamp Transaction Type Asset  Quantity Transacted  \\\n",
       "0  2017-12-08T18:12:58Z              Buy   BTC             0.001507   \n",
       "1  2017-12-17T18:43:07Z              Buy   BTC             0.000447   \n",
       "2  2019-06-24T19:38:15Z              Buy   BTC             0.000824   \n",
       "3  2019-07-03T22:05:59Z              Buy   BTC             0.001179   \n",
       "4  2019-09-02T23:14:51Z              Buy   BTC             0.000862   \n",
       "\n",
       "   USD Spot Price at Transaction  USD Subtotal  USD Total (inclusive of fees)  \\\n",
       "0                       15536.55         23.41                           25.0   \n",
       "1                       19643.38          8.78                           10.0   \n",
       "2                       10929.29          9.01                           10.0   \n",
       "3                       11456.14         13.51                           15.0   \n",
       "4                       10451.22          9.01                           10.0   \n",
       "\n",
       "   USD Fees                                 Notes  \n",
       "0      1.59  Bought 0.00150677 BTC for $25.00 USD  \n",
       "1      1.22  Bought 0.00044697 BTC for $10.00 USD  \n",
       "2      0.99  Bought 0.00082439 BTC for $10.00 USD  \n",
       "3      1.49  Bought 0.00117928 BTC for $15.00 USD  \n",
       "4      0.99   Bought 0.0008621 BTC for $10.00 USD  "
      ]
     },
     "execution_count": 49,
     "metadata": {},
     "output_type": "execute_result"
    }
   ],
   "source": [
    "crypto_file_df.head()"
   ]
  },
  {
   "cell_type": "code",
   "execution_count": 50,
   "metadata": {},
   "outputs": [],
   "source": [
    "crypto_file_modified = crypto_file_df[[\"Timestamp\", \"Transaction Type\", \"Asset\", \"USD Subtotal\", \"USD Fees\"]]"
   ]
  },
  {
   "cell_type": "code",
   "execution_count": 51,
   "metadata": {},
   "outputs": [
    {
     "data": {
      "text/html": [
       "<div>\n",
       "<style scoped>\n",
       "    .dataframe tbody tr th:only-of-type {\n",
       "        vertical-align: middle;\n",
       "    }\n",
       "\n",
       "    .dataframe tbody tr th {\n",
       "        vertical-align: top;\n",
       "    }\n",
       "\n",
       "    .dataframe thead th {\n",
       "        text-align: right;\n",
       "    }\n",
       "</style>\n",
       "<table border=\"1\" class=\"dataframe\">\n",
       "  <thead>\n",
       "    <tr style=\"text-align: right;\">\n",
       "      <th></th>\n",
       "      <th>Timestamp</th>\n",
       "      <th>Transaction Type</th>\n",
       "      <th>Asset</th>\n",
       "      <th>USD Subtotal</th>\n",
       "      <th>USD Fees</th>\n",
       "    </tr>\n",
       "  </thead>\n",
       "  <tbody>\n",
       "    <tr>\n",
       "      <th>0</th>\n",
       "      <td>2017-12-08T18:12:58Z</td>\n",
       "      <td>Buy</td>\n",
       "      <td>BTC</td>\n",
       "      <td>23.41</td>\n",
       "      <td>1.59</td>\n",
       "    </tr>\n",
       "    <tr>\n",
       "      <th>1</th>\n",
       "      <td>2017-12-17T18:43:07Z</td>\n",
       "      <td>Buy</td>\n",
       "      <td>BTC</td>\n",
       "      <td>8.78</td>\n",
       "      <td>1.22</td>\n",
       "    </tr>\n",
       "    <tr>\n",
       "      <th>2</th>\n",
       "      <td>2019-06-24T19:38:15Z</td>\n",
       "      <td>Buy</td>\n",
       "      <td>BTC</td>\n",
       "      <td>9.01</td>\n",
       "      <td>0.99</td>\n",
       "    </tr>\n",
       "    <tr>\n",
       "      <th>3</th>\n",
       "      <td>2019-07-03T22:05:59Z</td>\n",
       "      <td>Buy</td>\n",
       "      <td>BTC</td>\n",
       "      <td>13.51</td>\n",
       "      <td>1.49</td>\n",
       "    </tr>\n",
       "    <tr>\n",
       "      <th>4</th>\n",
       "      <td>2019-09-02T23:14:51Z</td>\n",
       "      <td>Buy</td>\n",
       "      <td>BTC</td>\n",
       "      <td>9.01</td>\n",
       "      <td>0.99</td>\n",
       "    </tr>\n",
       "  </tbody>\n",
       "</table>\n",
       "</div>"
      ],
      "text/plain": [
       "              Timestamp Transaction Type Asset  USD Subtotal  USD Fees\n",
       "0  2017-12-08T18:12:58Z              Buy   BTC         23.41      1.59\n",
       "1  2017-12-17T18:43:07Z              Buy   BTC          8.78      1.22\n",
       "2  2019-06-24T19:38:15Z              Buy   BTC          9.01      0.99\n",
       "3  2019-07-03T22:05:59Z              Buy   BTC         13.51      1.49\n",
       "4  2019-09-02T23:14:51Z              Buy   BTC          9.01      0.99"
      ]
     },
     "execution_count": 51,
     "metadata": {},
     "output_type": "execute_result"
    }
   ],
   "source": [
    "crypto_file_modified.head()"
   ]
  },
  {
   "cell_type": "code",
   "execution_count": 52,
   "metadata": {},
   "outputs": [],
   "source": [
    "c_translist = crypto_file_modified.rename(columns={\"Timestamp\": \"Date\", \"Transaction Type\": \"Type\", \"Asset\": \"Asset\", \"USD Subtotal\": \"Amount\", \"USD Fees\": \"Fee\"})"
   ]
  },
  {
   "cell_type": "code",
   "execution_count": 53,
   "metadata": {},
   "outputs": [
    {
     "data": {
      "text/html": [
       "<div>\n",
       "<style scoped>\n",
       "    .dataframe tbody tr th:only-of-type {\n",
       "        vertical-align: middle;\n",
       "    }\n",
       "\n",
       "    .dataframe tbody tr th {\n",
       "        vertical-align: top;\n",
       "    }\n",
       "\n",
       "    .dataframe thead th {\n",
       "        text-align: right;\n",
       "    }\n",
       "</style>\n",
       "<table border=\"1\" class=\"dataframe\">\n",
       "  <thead>\n",
       "    <tr style=\"text-align: right;\">\n",
       "      <th></th>\n",
       "      <th>Date</th>\n",
       "      <th>Type</th>\n",
       "      <th>Asset</th>\n",
       "      <th>Amount</th>\n",
       "      <th>Fee</th>\n",
       "    </tr>\n",
       "  </thead>\n",
       "  <tbody>\n",
       "    <tr>\n",
       "      <th>0</th>\n",
       "      <td>2017-12-08T18:12:58Z</td>\n",
       "      <td>Buy</td>\n",
       "      <td>BTC</td>\n",
       "      <td>23.41</td>\n",
       "      <td>1.59</td>\n",
       "    </tr>\n",
       "    <tr>\n",
       "      <th>1</th>\n",
       "      <td>2017-12-17T18:43:07Z</td>\n",
       "      <td>Buy</td>\n",
       "      <td>BTC</td>\n",
       "      <td>8.78</td>\n",
       "      <td>1.22</td>\n",
       "    </tr>\n",
       "    <tr>\n",
       "      <th>2</th>\n",
       "      <td>2019-06-24T19:38:15Z</td>\n",
       "      <td>Buy</td>\n",
       "      <td>BTC</td>\n",
       "      <td>9.01</td>\n",
       "      <td>0.99</td>\n",
       "    </tr>\n",
       "    <tr>\n",
       "      <th>3</th>\n",
       "      <td>2019-07-03T22:05:59Z</td>\n",
       "      <td>Buy</td>\n",
       "      <td>BTC</td>\n",
       "      <td>13.51</td>\n",
       "      <td>1.49</td>\n",
       "    </tr>\n",
       "    <tr>\n",
       "      <th>4</th>\n",
       "      <td>2019-09-02T23:14:51Z</td>\n",
       "      <td>Buy</td>\n",
       "      <td>BTC</td>\n",
       "      <td>9.01</td>\n",
       "      <td>0.99</td>\n",
       "    </tr>\n",
       "  </tbody>\n",
       "</table>\n",
       "</div>"
      ],
      "text/plain": [
       "                   Date Type Asset  Amount   Fee\n",
       "0  2017-12-08T18:12:58Z  Buy   BTC   23.41  1.59\n",
       "1  2017-12-17T18:43:07Z  Buy   BTC    8.78  1.22\n",
       "2  2019-06-24T19:38:15Z  Buy   BTC    9.01  0.99\n",
       "3  2019-07-03T22:05:59Z  Buy   BTC   13.51  1.49\n",
       "4  2019-09-02T23:14:51Z  Buy   BTC    9.01  0.99"
      ]
     },
     "execution_count": 53,
     "metadata": {},
     "output_type": "execute_result"
    }
   ],
   "source": [
    "c_translist.head()"
   ]
  },
  {
   "cell_type": "code",
   "execution_count": 54,
   "metadata": {},
   "outputs": [
    {
     "name": "stdout",
     "output_type": "stream",
     "text": [
      "32\n"
     ]
    }
   ],
   "source": [
    "asset_count = len(c_translist[\"Asset\"].unique())\n",
    "print(asset_count)"
   ]
  },
  {
   "cell_type": "code",
   "execution_count": 55,
   "metadata": {},
   "outputs": [
    {
     "data": {
      "text/html": [
       "<div>\n",
       "<style scoped>\n",
       "    .dataframe tbody tr th:only-of-type {\n",
       "        vertical-align: middle;\n",
       "    }\n",
       "\n",
       "    .dataframe tbody tr th {\n",
       "        vertical-align: top;\n",
       "    }\n",
       "\n",
       "    .dataframe thead th {\n",
       "        text-align: right;\n",
       "    }\n",
       "</style>\n",
       "<table border=\"1\" class=\"dataframe\">\n",
       "  <thead>\n",
       "    <tr style=\"text-align: right;\">\n",
       "      <th></th>\n",
       "      <th>Date</th>\n",
       "      <th>Type</th>\n",
       "      <th>Asset</th>\n",
       "      <th>Amount</th>\n",
       "      <th>Fee</th>\n",
       "    </tr>\n",
       "  </thead>\n",
       "  <tbody>\n",
       "    <tr>\n",
       "      <th>0</th>\n",
       "      <td>2017-12-08T18:12:58Z</td>\n",
       "      <td>Buy</td>\n",
       "      <td>BTC</td>\n",
       "      <td>23.41</td>\n",
       "      <td>1.59</td>\n",
       "    </tr>\n",
       "    <tr>\n",
       "      <th>1</th>\n",
       "      <td>2017-12-17T18:43:07Z</td>\n",
       "      <td>Buy</td>\n",
       "      <td>BTC</td>\n",
       "      <td>8.78</td>\n",
       "      <td>1.22</td>\n",
       "    </tr>\n",
       "    <tr>\n",
       "      <th>2</th>\n",
       "      <td>2019-06-24T19:38:15Z</td>\n",
       "      <td>Buy</td>\n",
       "      <td>BTC</td>\n",
       "      <td>9.01</td>\n",
       "      <td>0.99</td>\n",
       "    </tr>\n",
       "    <tr>\n",
       "      <th>3</th>\n",
       "      <td>2019-07-03T22:05:59Z</td>\n",
       "      <td>Buy</td>\n",
       "      <td>BTC</td>\n",
       "      <td>13.51</td>\n",
       "      <td>1.49</td>\n",
       "    </tr>\n",
       "    <tr>\n",
       "      <th>4</th>\n",
       "      <td>2019-09-02T23:14:51Z</td>\n",
       "      <td>Buy</td>\n",
       "      <td>BTC</td>\n",
       "      <td>9.01</td>\n",
       "      <td>0.99</td>\n",
       "    </tr>\n",
       "    <tr>\n",
       "      <th>...</th>\n",
       "      <td>...</td>\n",
       "      <td>...</td>\n",
       "      <td>...</td>\n",
       "      <td>...</td>\n",
       "      <td>...</td>\n",
       "    </tr>\n",
       "    <tr>\n",
       "      <th>101</th>\n",
       "      <td>2021-04-17T15:05:55Z</td>\n",
       "      <td>Buy</td>\n",
       "      <td>1INCH</td>\n",
       "      <td>18.51</td>\n",
       "      <td>1.49</td>\n",
       "    </tr>\n",
       "    <tr>\n",
       "      <th>102</th>\n",
       "      <td>2021-04-21T23:49:42Z</td>\n",
       "      <td>Coinbase Earn</td>\n",
       "      <td>FORTH</td>\n",
       "      <td>0.99</td>\n",
       "      <td>0.00</td>\n",
       "    </tr>\n",
       "    <tr>\n",
       "      <th>103</th>\n",
       "      <td>2021-04-21T23:50:06Z</td>\n",
       "      <td>Coinbase Earn</td>\n",
       "      <td>FORTH</td>\n",
       "      <td>0.99</td>\n",
       "      <td>0.00</td>\n",
       "    </tr>\n",
       "    <tr>\n",
       "      <th>104</th>\n",
       "      <td>2021-04-21T23:50:23Z</td>\n",
       "      <td>Coinbase Earn</td>\n",
       "      <td>FORTH</td>\n",
       "      <td>0.99</td>\n",
       "      <td>0.00</td>\n",
       "    </tr>\n",
       "    <tr>\n",
       "      <th>105</th>\n",
       "      <td>2021-04-21T23:51:07Z</td>\n",
       "      <td>Buy</td>\n",
       "      <td>FORTH</td>\n",
       "      <td>9.01</td>\n",
       "      <td>0.99</td>\n",
       "    </tr>\n",
       "  </tbody>\n",
       "</table>\n",
       "<p>106 rows × 5 columns</p>\n",
       "</div>"
      ],
      "text/plain": [
       "                     Date           Type  Asset  Amount   Fee\n",
       "0    2017-12-08T18:12:58Z            Buy    BTC   23.41  1.59\n",
       "1    2017-12-17T18:43:07Z            Buy    BTC    8.78  1.22\n",
       "2    2019-06-24T19:38:15Z            Buy    BTC    9.01  0.99\n",
       "3    2019-07-03T22:05:59Z            Buy    BTC   13.51  1.49\n",
       "4    2019-09-02T23:14:51Z            Buy    BTC    9.01  0.99\n",
       "..                    ...            ...    ...     ...   ...\n",
       "101  2021-04-17T15:05:55Z            Buy  1INCH   18.51  1.49\n",
       "102  2021-04-21T23:49:42Z  Coinbase Earn  FORTH    0.99  0.00\n",
       "103  2021-04-21T23:50:06Z  Coinbase Earn  FORTH    0.99  0.00\n",
       "104  2021-04-21T23:50:23Z  Coinbase Earn  FORTH    0.99  0.00\n",
       "105  2021-04-21T23:51:07Z            Buy  FORTH    9.01  0.99\n",
       "\n",
       "[106 rows x 5 columns]"
      ]
     },
     "execution_count": 55,
     "metadata": {},
     "output_type": "execute_result"
    }
   ],
   "source": [
    "c_translist"
   ]
  },
  {
   "cell_type": "code",
   "execution_count": 56,
   "metadata": {},
   "outputs": [],
   "source": [
    "x_axis = np.arange(len(c_translist))\n",
    "tick_locations = [value+0.4 for value in x_axis]"
   ]
  },
  {
   "cell_type": "code",
   "execution_count": 69,
   "metadata": {},
   "outputs": [
    {
     "data": {
      "image/png": "[encoded data removed]",
      "text/plain": [
       "<Figure size 2880x2880 with 1 Axes>"
      ]
     },
     "metadata": {
      "needs_background": "light"
     },
     "output_type": "display_data"
    }
   ],
   "source": [
    "plt.figure(figsize=(40,40));\n",
    "plt.bar(x_axis, c_translist[\"Asset\"], color='r', alpha=0.5, align=\"edge\");\n",
    "plt.xticks(tick_locations, c_translist[\"Amount\"], rotation=\"vertical\");"
   ]
  },
  {
   "cell_type": "code",
   "execution_count": 64,
   "metadata": {},
   "outputs": [
    {
     "data": {
      "text/plain": [
       "<Figure size 432x288 with 0 Axes>"
      ]
     },
     "metadata": {},
     "output_type": "display_data"
    }
   ],
   "source": [
    "plt.savefig(\"plt_test.png\")"
   ]
  },
  {
   "cell_type": "code",
   "execution_count": 66,
   "metadata": {},
   "outputs": [],
   "source": [
    "plt.show()"
   ]
  },
  {
   "cell_type": "code",
   "execution_count": null,
   "metadata": {},
   "outputs": [],
   "source": []
  }
 ],
 "metadata": {
  "kernelspec": {
   "display_name": "Python 3",
   "language": "python",
   "name": "python3"
  },
  "language_info": {
   "codemirror_mode": {
    "name": "ipython",
    "version": 3
   },
   "file_extension": ".py",
   "mimetype": "text/x-python",
   "name": "python",
   "nbconvert_exporter": "python",
   "pygments_lexer": "ipython3",
   "version": "3.8.6"
  }
 },
 "nbformat": 4,
 "nbformat_minor": 4
}
